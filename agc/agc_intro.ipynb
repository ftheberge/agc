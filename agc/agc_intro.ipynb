{
 "cells": [
  {
   "cell_type": "markdown",
   "id": "5d928bea",
   "metadata": {},
   "source": [
    "# AGC - Area under Gain Curves\n",
    "\n",
    "We introduce the Python package **agc** which is useful for the evaluation of **binary classifiers** under a commonly encountered scenario where **limited resources** are available to validate the top-scoring results. In such cases, we seek a classifier that retrieves as many positive cases as possible amongst the top-scoring points, and we are less concerned with the overall performance.\n",
    "\n",
    "To that effect, we introduce the **Normalized Truncated Area under Gain Curves (AGC)** measure, and compare it with well known measures such as the **AUC** (area under the ROC curve), Precision, and Average Precision (**AP**).\n",
    "\n",
    "This is illustrated via a story where we compare outputs from 3 hypothetical algorithms. \n"
   ]
  },
  {
   "cell_type": "code",
   "execution_count": 1,
   "id": "fourth-integration",
   "metadata": {},
   "outputs": [],
   "source": [
    "## some standard packages\n",
    "import numpy as np\n",
    "import pandas as pd\n",
    "from sklearn.metrics import roc_auc_score, average_precision_score, roc_curve\n",
    "import matplotlib.pyplot as plt\n",
    "%matplotlib inline\n",
    "\n",
    "## agc package; install via: pip install agc\n",
    "from agc import * \n"
   ]
  },
  {
   "cell_type": "markdown",
   "id": "1fc6b96a",
   "metadata": {},
   "source": [
    "# The context\n",
    "\n",
    "Let's assume we have 10M files, 10k of which are labelled as malware (label = 1). The other files are assumed benign with label = 0. We want to compare classifiers used to identify malware files. In the cell below, we build the dataset and 3 hypothetical outputs from 3 different classification algorithms. We assume that each algorithm returns a score in the interval [0,1] for each file.\n",
    "\n",
    "In the cell below:\n",
    "* y_true: labels for the dataset (a.k.a. ground truth)\n",
    "* p1, p2, p3: scores from the 3 algorithms, respectively.\n"
   ]
  },
  {
   "cell_type": "code",
   "execution_count": 2,
   "id": "fec808fd",
   "metadata": {},
   "outputs": [],
   "source": [
    "## the \"dataset\" with 10k \"positive\" labels\n",
    "n = 10000000\n",
    "pos = 10000\n",
    "y_true = np.repeat(0,n-pos)\n",
    "for i in np.random.choice(n//100, pos, False):\n",
    "    y_true[i] = 1\n",
    "y_true = np.concatenate((np.repeat(1,pos),np.repeat(0,n-pos)))\n",
    "\n",
    "## output from 3 hypothetical algorithms\n",
    "## (algo 1)\n",
    "K = 100000\n",
    "p1 = np.concatenate((np.random.uniform(.8,1,pos),np.random.uniform(.8,1,K-pos),np.random.uniform(0,.9,n-K)))\n",
    "## (algo 2)\n",
    "p2 = np.concatenate((np.random.uniform(.9,1,150),np.random.uniform(.8,.9,250),np.random.uniform(.7,.8,100),\n",
    "                    np.random.uniform(.6,.75,pos-500),np.random.uniform(.9,1,350),np.random.uniform(.8,.9,250),\n",
    "                    np.random.uniform(.7,.8,900),np.random.uniform(.1,.75,n-pos-1500)))\n",
    "## (algo 3)\n",
    "p3 = np.concatenate((np.random.uniform(.9,1,250),np.random.uniform(.8,.9,150),np.random.uniform(.7,.8,100),\n",
    "                    np.random.uniform(.6,.75,pos-500),np.random.uniform(.9,1,250),np.random.uniform(.8,.9,350),\n",
    "                    np.random.uniform(.7,.8,900),np.random.uniform(.1,.75,n-pos-1500)))\n"
   ]
  },
  {
   "cell_type": "markdown",
   "id": "aa17803d",
   "metadata": {},
   "source": [
    "# Step 1 - AUC\n",
    "\n",
    "The area under ROC curve, or AUC, is a commonly used measure of performance, often the only one used. \n",
    "From the results below, we see that algorithm 1 is the best w.r.t. AUC, and all values are quite high. This leads us to think that we have 3 very strong classifiers!"
   ]
  },
  {
   "cell_type": "code",
   "execution_count": 3,
   "id": "a0fc7efb",
   "metadata": {
    "scrolled": true
   },
   "outputs": [
    {
     "name": "stdout",
     "output_type": "stream",
     "text": [
      "algo 1: 0.9678522878078079\n",
      "algo 2: 0.8885876465065066\n",
      "algo 3: 0.8903807030330331\n"
     ]
    }
   ],
   "source": [
    "## step 1 - compare AUCs\n",
    "print('algo 1:',roc_auc_score(y_true, p1))\n",
    "print('algo 2:',roc_auc_score(y_true, p2))\n",
    "print('algo 3:',roc_auc_score(y_true, p3))\n"
   ]
  },
  {
   "cell_type": "markdown",
   "id": "c6cdbb9e",
   "metadata": {},
   "source": [
    "# Step 2 - AP\n",
    "\n",
    "But wait, we remember from our data science class that under class imbalance, which is clearly the case here, we should use the average precision (AP) measure instead. \n",
    "From the results below, we see much smaller values, so maybe we are not doing that great after all; however, algorithm 1 still is the winner, so this should be our choice, should it?\n"
   ]
  },
  {
   "cell_type": "code",
   "execution_count": 4,
   "id": "715e70f8",
   "metadata": {
    "scrolled": true
   },
   "outputs": [
    {
     "name": "stdout",
     "output_type": "stream",
     "text": [
      "algo 1: 0.05926437994255093\n",
      "algo 2: 0.020786783361596665\n",
      "algo 3: 0.024974196256253425\n"
     ]
    }
   ],
   "source": [
    "## step 2 -  but for data with class imbalance, AP is recommended, let's see\n",
    "print('algo 1:',average_precision_score(y_true, p1))\n",
    "print('algo 2:',average_precision_score(y_true, p2))\n",
    "print('algo 3:',average_precision_score(y_true, p3))\n",
    "## scores are much lower now, but algo 1 still seems the best choice"
   ]
  },
  {
   "cell_type": "markdown",
   "id": "ca87be08",
   "metadata": {},
   "source": [
    "# Step 3 - Precision\n",
    "\n",
    "Ok wait, no matter which algorithm we choose, someone will need to look at the top scoring files to confirm those are malware, and this is quite costly. Thus, we have a **limited budget** in terms of what we will be able to verify. We are told that in the best possible scenario, only about **1000** files can be looked at, and this is a very optimistic figure. Then in that case, we decide to simply look at the precision given the top-1000 scoring files for the 3 algorithms.\n",
    "We now see a very different story below; algorithms 2 and 3 now are the better choices, with the same precision scores. Which one should we select?\n"
   ]
  },
  {
   "cell_type": "code",
   "execution_count": 5,
   "id": "2a96f6e9",
   "metadata": {},
   "outputs": [
    {
     "name": "stdout",
     "output_type": "stream",
     "text": [
      "algo 1: 0.099\n",
      "algo 2: 0.4\n",
      "algo 3: 0.4\n"
     ]
    }
   ],
   "source": [
    "## step 3 - limited budget; \n",
    "## we will only be able to look at top-1000 files, and this is very optimistic, likely much less\n",
    "## let's look at precision (or number of hits) in top 1000\n",
    "T = 1000\n",
    "x = np.argsort(p1)[-1000:]\n",
    "print('algo 1:',sum([i<10000 for i in x])/1000)\n",
    "x = np.argsort(p2)[-1000:]\n",
    "print('algo 2:',sum([i<10000 for i in x])/1000)\n",
    "x = np.argsort(p3)[-1000:]\n",
    "print('algo 3:',sum([i<10000 for i in x])/1000)\n",
    "## well now, algo 2 or 3 are best, with equal performance; what to do?"
   ]
  },
  {
   "cell_type": "markdown",
   "id": "745a81e5",
   "metadata": {},
   "source": [
    "# Step 4 - Precision, bis\n",
    "\n",
    "So from the information we got, 1000 is an optimistic figure and it is likely that a smaller number of files can be reviewed. Let's look at the precision (number or proportion of true positives we recover) for all possible thresholds from 1 to 1000. We plot those results below for the 3 algorithms.\n",
    "From these plots, we still see that algorithms 2 and 3 are better, but algorithm 3 gets more **early hits**.\n",
    "It seems that this should be our choice, but is there a **single measure** that would lead us that way, without having to generate all values and look at the plots?\n"
   ]
  },
  {
   "cell_type": "code",
   "execution_count": 6,
   "id": "e070faaa",
   "metadata": {},
   "outputs": [
    {
     "data": {
      "image/png": "[encoded data removed]",
      "text/plain": [
       "<Figure size 432x288 with 1 Axes>"
      ]
     },
     "metadata": {
      "needs_background": "light"
     },
     "output_type": "display_data"
    }
   ],
   "source": [
    "## step 4 - let's look at precision (number of hits) for each values of k<=1000, for the top-k\n",
    "top1, tpr1, _  = gain_curve(y_true, p1, truncate=1000)\n",
    "top2, tpr2, _  = gain_curve(y_true, p2, truncate=1000)\n",
    "top3, tpr3, _  = gain_curve(y_true, p3, truncate=1000)\n",
    "plt.plot(top1*n,tpr1*pos,color='green',label='algo 1')\n",
    "plt.plot(top2*n,tpr2*pos,color='red',label='algo 2')\n",
    "plt.plot(top3*n,tpr3*pos,color='blue',label='algo 3')\n",
    "mt = max(top1)\n",
    "plt.plot([0,mt],[0,mt],color='black')\n",
    "plt.xlabel('Number of top-scoring points')\n",
    "plt.ylabel('Number of positive cases')\n",
    "plt.legend();\n"
   ]
  },
  {
   "cell_type": "markdown",
   "id": "1b7c2493",
   "metadata": {},
   "source": [
    "# Step 5 - AGC\n",
    "\n",
    "Indeed there is! Gain curves are not used as much as ROC or precision-recall curves, but for the scenario we have here, they are a perfect choice.\n",
    "With gain curves, we replace the false positive rate in x-axis of ROC with the number of top-scoring points considered, so when we look at top-k, the x-axis is k/N, where N is the total number of points, and the y-axis is the true positive rate.\n",
    "Below we draw the gain curve for algorithm 3 (shown in red); the black line is the expected results under random ranking and the blue line is the best possible curve.\n",
    "\n",
    "In the next cell, we compute the AGC (area under the gain curves) for the 3 algorithms, which show similar results to the AUC.\n"
   ]
  },
  {
   "cell_type": "code",
   "execution_count": 7,
   "id": "1006ed45",
   "metadata": {
    "scrolled": true
   },
   "outputs": [
    {
     "data": {
      "image/png": "[encoded data removed]",
      "text/plain": [
       "<Figure size 432x288 with 1 Axes>"
      ]
     },
     "metadata": {
      "needs_background": "light"
     },
     "output_type": "display_data"
    }
   ],
   "source": [
    "## step 5 - gain curve and AGC\n",
    "fpr, tpr, thresholds = gain_curve(y_true, p3)\n",
    "plt.plot(fpr,tpr,color='red')\n",
    "plt.plot([0,1],[0,1],'--',color='black')\n",
    "r = pos/n ## proportion of positives overall\n",
    "plt.plot([0,r,1],[0,1,1],'--',color='blue'); ## max\n",
    "plt.xlabel('proportion of top-scoring points',fontsize=14)\n",
    "plt.ylabel('TPR',fontsize=14);"
   ]
  },
  {
   "cell_type": "code",
   "execution_count": 8,
   "id": "302817ae",
   "metadata": {},
   "outputs": [
    {
     "name": "stdout",
     "output_type": "stream",
     "text": [
      "algo 1: 0.9678683697048525\n",
      "algo 2: 0.8886433805502751\n",
      "algo 3: 0.89043554010005\n"
     ]
    }
   ],
   "source": [
    "## We can compute the AGC, which is quite similar to AUC\n",
    "print('algo 1:',agc_score(y_true, p1, normalized=False))\n",
    "print('algo 2:',agc_score(y_true, p2, normalized=False))\n",
    "print('algo 3:',agc_score(y_true, p3, normalized=False))\n"
   ]
  },
  {
   "cell_type": "markdown",
   "id": "da75b4e8",
   "metadata": {},
   "source": [
    "# Step 6 - Denouement ... truncated, normalized AGC!\n",
    "\n",
    "Given the nature of the x-axis with gain curves, we can easily truncate it so that we only consider the top-k scoring points. Moreover, given: \n",
    "* AGC(k): area under the gain curve truncated at k\n",
    "* R(k): **expected** area under the gain curve truncated at k under random classification\n",
    "* M(k): **maximal** possible area under the gain curve truncated at k\n",
    "\n",
    "we define the **normalized** area under the gain curve **truncated** at k as:\n",
    "\n",
    "* AGC'(k) = (AGC(k)-R(k)) / (M(k)-R(k))\n",
    "\n",
    "This represents the proportion of possible gain over random that we achieved; note that it can be negative if we do worse than random.\n",
    "\n",
    "Below, we compute AGC'(1000) for the 3 algorithms, with results that are well aligned with what we saw earlier in the precision plots.\n"
   ]
  },
  {
   "cell_type": "code",
   "execution_count": 9,
   "id": "4d1af237",
   "metadata": {},
   "outputs": [
    {
     "name": "stdout",
     "output_type": "stream",
     "text": [
      "algo 1: 0.09101601601601601\n",
      "algo 2: 0.34924324324324324\n",
      "algo 3: 0.4434954954954955\n"
     ]
    }
   ],
   "source": [
    "## AGC'(1000) for the 3 algorithms\n",
    "print('algo 1:',agc_score(y_true, p1, normalized=True, truncate=1000))\n",
    "print('algo 2:',agc_score(y_true, p2, normalized=True, truncate=1000))\n",
    "print('algo 3:',agc_score(y_true, p3, normalized=True, truncate=1000))\n"
   ]
  },
  {
   "cell_type": "markdown",
   "id": "92906c91",
   "metadata": {},
   "source": [
    "# Appendix - Speed tests\n",
    "\n",
    "This is all very nice indeed, but how quickly can we compute AGC'(k) when N, the total number of points, is large? \n",
    "Does the value at which we truncate matter?\n",
    "In the first cell below, we look at the same example (N = 10M), truncating at various values, using the results for algorithm 3. We see that the truncation value is not relevant, not surprizing as the bottleneck is to sort the whole vector of scores anyways.\n",
    "In the next cell, we look at a different experiment where we vary the size N of the dataset from 2^{16} to 2^{27} inclusively. We do 3 runs for each value of N and plot the averages on a log-log scale.\n",
    "We see that even for datasets as large as N = 2^{27} = 134,217,728, run time is about 1 minute on a MacBook Pro.\n"
   ]
  },
  {
   "cell_type": "code",
   "execution_count": 10,
   "id": "96ea7322",
   "metadata": {
    "scrolled": true
   },
   "outputs": [
    {
     "name": "stdout",
     "output_type": "stream",
     "text": [
      "k = 100 : 4.508025884628296 sec\n",
      "k = 1000 : 4.47531795501709 sec\n",
      "k = 10000 : 4.434575796127319 sec\n",
      "k = 100000 : 4.432496070861816 sec\n",
      "k = 1000000 : 4.45591402053833 sec\n"
     ]
    }
   ],
   "source": [
    "## how fast is it to compute AGC'(k) when we vary k?\n",
    "import time\n",
    "X = [100,1000,10000,100000,1000000]\n",
    "for t in X:\n",
    "    start = time.time()\n",
    "    s = agc_score(y_true, p3, normalized=True, truncate=t)\n",
    "    print('k =',t,':',time.time()-start,'sec')\n"
   ]
  },
  {
   "cell_type": "code",
   "execution_count": 11,
   "id": "cc657c1e",
   "metadata": {
    "scrolled": false
   },
   "outputs": [
    {
     "name": "stdout",
     "output_type": "stream",
     "text": [
      "n = 65536\n",
      "n = 131072\n",
      "n = 262144\n",
      "n = 524288\n",
      "n = 1048576\n",
      "n = 2097152\n",
      "n = 4194304\n",
      "n = 8388608\n",
      "n = 16777216\n",
      "n = 33554432\n",
      "n = 67108864\n",
      "n = 134217728\n"
     ]
    },
    {
     "data": {
      "image/png": "[encoded data removed]",
      "text/plain": [
       "<Figure size 432x288 with 1 Axes>"
      ]
     },
     "metadata": {
      "needs_background": "light"
     },
     "output_type": "display_data"
    }
   ],
   "source": [
    "## now we vary N, with 0.1% positives, random classifier, truncate at 1%\n",
    "x = []\n",
    "y = []\n",
    "for i in [16,17,18,19,20,21,22,23,24,25,26,27]: ## \n",
    "    n = int(2**i)\n",
    "    print('n =',n)\n",
    "    x.append(n)\n",
    "    pos = n//1000\n",
    "    y_tr = np.concatenate((np.repeat(1,pos),np.repeat(0,n-pos)))\n",
    "    ctr = 0\n",
    "    for z in range(3):\n",
    "        proba = np.random.random(n)\n",
    "        start = time.time()\n",
    "        s = agc_score(y_tr, proba, normalized=True, truncate=n//100)\n",
    "        ctr += (time.time()-start)    \n",
    "    y.append(ctr/3)\n",
    "\n",
    "## plot\n",
    "plt.loglog(x[:12],y[:12],'o-',base=2)\n",
    "plt.yticks(fontsize=14)\n",
    "plt.xticks(fontsize=14)\n",
    "plt.xlabel('number of data points', fontsize=14)\n",
    "plt.ylabel('average run time (seconds)', fontsize=14);\n"
   ]
  },
  {
   "cell_type": "markdown",
   "id": "bd45b3c5",
   "metadata": {},
   "source": [
    "## Special case - truncation and tied scores\n",
    "\n",
    "In the case where there are tied scores, when computing the truncated ALC, if the truncation happens at a point with repeated score, then we consider all points with the same score. \n",
    "\n",
    "For example, if the top-100 scores are all equal to 1, then truncation at the top-k points will be the same for all values 2 <= k <= 100; a warning is issued if the truncation level needs to be adjusted in this way. We illustrate this below.\n"
   ]
  },
  {
   "cell_type": "code",
   "execution_count": 12,
   "id": "417ddcce",
   "metadata": {},
   "outputs": [
    {
     "name": "stdout",
     "output_type": "stream",
     "text": [
      "Warning - tied scores, truncating for top 100 scores\n",
      "0.6428571428571429\n",
      "0.6428571428571429\n"
     ]
    }
   ],
   "source": [
    "scr = np.concatenate((np.repeat(1,100),np.random.uniform(0,.99,900)))\n",
    "labels = np.concatenate((np.repeat(1,50), np.repeat(0,950)))\n",
    "print(agc_score(labels, scr, truncate=50))\n",
    "print(agc_score(labels,scr,truncate=100))"
   ]
  }
 ],
 "metadata": {
  "kernelspec": {
   "display_name": "graphmining",
   "language": "python",
   "name": "graphmining"
  },
  "language_info": {
   "codemirror_mode": {
    "name": "ipython",
    "version": 3
   },
   "file_extension": ".py",
   "mimetype": "text/x-python",
   "name": "python",
   "nbconvert_exporter": "python",
   "pygments_lexer": "ipython3",
   "version": "3.7.9"
  }
 },
 "nbformat": 4,
 "nbformat_minor": 5
}
